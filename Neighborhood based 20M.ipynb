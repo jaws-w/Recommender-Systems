{
 "cells": [
  {
   "cell_type": "markdown",
   "metadata": {},
   "source": [
    "# Neighborhood Based Recommender Systems\n",
    "Here we implement a user-based recommender system on the MovieLens 100k Dataset."
   ]
  },
  {
   "cell_type": "code",
   "execution_count": 1,
   "metadata": {},
   "outputs": [],
   "source": [
    "# Importing packages\n",
    "import numpy as np\n",
    "import math\n",
    "from scipy import sparse"
   ]
  },
  {
   "cell_type": "markdown",
   "metadata": {},
   "source": [
    "## Movie Lens 20M\n",
    "Here we work with the Movie Lens 20M data set."
   ]
  },
  {
   "cell_type": "code",
   "execution_count": 2,
   "metadata": {},
   "outputs": [],
   "source": [
    "# numbers of users and items\n",
    "\n",
    "ITEMS = 131262\n",
    "USERS = 138493"
   ]
  },
  {
   "cell_type": "code",
   "execution_count": 5,
   "metadata": {},
   "outputs": [],
   "source": [
    "# This function reads data from file and writes it to target, a numpy array\n",
    "def read_data(file, target):\n",
    "    with open(file) as f:\n",
    "        line = f.readline()\n",
    "        line = f.readline()\n",
    "        while line:\n",
    "            try:\n",
    "                user, item, rating, _ = line.split(sep=',')\n",
    "                target[int(user)-1, int(item)-1] = int(float(rating) * 2)\n",
    "            except ValueError:\n",
    "                print(line) \n",
    "            line = f.readline()\n",
    "\n"
   ]
  },
  {
   "cell_type": "code",
   "execution_count": 6,
   "metadata": {},
   "outputs": [],
   "source": [
    "# Here we read in the ratings in 20M\n",
    "\n",
    "#data_20m = np.zeros((USERS, ITEMS), dtype=int)\n",
    "\n",
    "data_20m = sparse.lil_matrix((USERS, ITEMS), dtype=np.int8)\n",
    "\n",
    "read_data(\".\\\\ml-20M\\\\rating.csv\", data_20m)\n"
   ]
  },
  {
   "cell_type": "code",
   "execution_count": 7,
   "metadata": {},
   "outputs": [
    {
     "name": "stdout",
     "output_type": "stream",
     "text": [
      "20000263\n"
     ]
    }
   ],
   "source": [
    "print(data_20m.count_nonzero())"
   ]
  },
  {
   "cell_type": "code",
   "execution_count": 10,
   "metadata": {},
   "outputs": [],
   "source": [
    "data_20m = data_20m.tocsr()"
   ]
  },
  {
   "cell_type": "code",
   "execution_count": 11,
   "metadata": {},
   "outputs": [],
   "source": [
    "sparse.save_npz(\"data_20m\", data_20m)"
   ]
  },
  {
   "cell_type": "code",
   "execution_count": 12,
   "metadata": {},
   "outputs": [],
   "source": [
    "data_20m_loaded = sparse.load_npz(\"data_20m.npz\")\n"
   ]
  },
  {
   "cell_type": "code",
   "execution_count": 13,
   "metadata": {},
   "outputs": [
    {
     "name": "stdout",
     "output_type": "stream",
     "text": [
      "20000263\n"
     ]
    }
   ],
   "source": [
    "print(data_20m_loaded.count_nonzero())"
   ]
  },
  {
   "cell_type": "code",
   "execution_count": 15,
   "metadata": {},
   "outputs": [
    {
     "name": "stdout",
     "output_type": "stream",
     "text": [
      "<class 'scipy.sparse.csr.csr_matrix'>\n"
     ]
    }
   ],
   "source": [
    "print(type(data_20m_loaded))"
   ]
  },
  {
   "cell_type": "code",
   "execution_count": null,
   "metadata": {},
   "outputs": [],
   "source": [
    "# Todo: split into train and testing sets"
   ]
  },
  {
   "cell_type": "code",
   "execution_count": 5,
   "metadata": {},
   "outputs": [],
   "source": [
    "# Generate the average rating for each user\n",
    "\n",
    "averages = [np.average(user, weights=user.astype(bool)) for user in u1_train_data]\n",
    "\n",
    "# Find which items are rated by each user and which users rated each item\n",
    "rated_items = [{k for k in range(ITEMS) if u1_train_data[i][k] > 0} for i in range(USERS)]\n",
    "rated_users = [{k for k in range(USERS) if u1_train_data[k][i] > 0} for i in range(ITEMS)]"
   ]
  },
  {
   "cell_type": "markdown",
   "metadata": {},
   "source": [
    "Now that most of the prep work is done, it's time to calculate the matrix of Pearson correlation values."
   ]
  },
  {
   "cell_type": "code",
   "execution_count": 6,
   "metadata": {},
   "outputs": [],
   "source": [
    "# This implements the Pearson metric as found in equation (2.2)\n",
    "\n",
    "def pearson(user1, user2):\n",
    "    intersection = rated_items[user1].intersection(rated_items[user2])\n",
    "    if len(intersection) <= 1:\n",
    "        return 0\n",
    "\n",
    "    bottom1 = math.sqrt( sum([(u1_train_data[user1][k] - averages[user1]) ** 2 for k in intersection]))\n",
    "    bottom2 = math.sqrt( sum([(u1_train_data[user2][k] - averages[user2]) ** 2 for k in intersection]))\n",
    "\n",
    "    if bottom1 * bottom2 == 0:\n",
    "        return 0\n",
    "        \n",
    "    top = sum([(u1_train_data[user1][k] - averages[user1]) * (u1_train_data[user2][k] - averages[user2]) for k in intersection])\n",
    "\n",
    "    return top / (bottom1 * bottom2)"
   ]
  },
  {
   "cell_type": "code",
   "execution_count": 7,
   "metadata": {},
   "outputs": [],
   "source": [
    "# I don't know if this is the way to go about this.\n",
    "# It takes a long time to run. However, I think it'set\n",
    "# necessary because we'll have to calculate these values\n",
    "# sooner or later anyways.\n",
    "\n",
    "pearson_matrix = np.zeros((USERS,USERS))\n",
    "for user1 in range(USERS):\n",
    "    # since the matrix is symmetric, we can save time by only calculating half the values\n",
    "    for user2 in range(USERS):\n",
    "        if user1 == user2:\n",
    "            pearson_matrix[user1][user2] = 1\n",
    "            continue\n",
    "        pm = pearson(user1,user2) \n",
    "        if pm > 1:\n",
    "            pm = 1\n",
    "        pearson_matrix[user1][user2] = pm\n",
    "        pearson_matrix[user1][user2] = pm\n",
    "np.savetxt(\"pearsonmatrix.csv\", pearson_matrix, delimiter=', ', newline='\\n')"
   ]
  },
  {
   "cell_type": "code",
   "execution_count": 8,
   "metadata": {},
   "outputs": [],
   "source": [
    "# Of the users who rated item, return the k with highest pearson correlation value with a specified user\n",
    "\n",
    "def k_closest(user, item, k):\n",
    "    pearson_sorted = sorted((i for i in range(USERS) if i in rated_users[item]), key=lambda x: pearson_matrix[user][x])[-k:]\n",
    "    return pearson_sorted"
   ]
  },
  {
   "cell_type": "code",
   "execution_count": 9,
   "metadata": {},
   "outputs": [],
   "source": [
    "# Implement r-hat as in equation 2.4\n",
    "\n",
    "def r_hat(user, item, K):\n",
    "    K_closest_users = k_closest(user, item, K)\n",
    "    # Come up with something to do if the k_closest is empty\n",
    "    if len(K_closest_users) == 0:\n",
    "        raise ZeroDivisionError\n",
    "    top = sum(pearson_matrix[user][user2] * (u1_train_data[user2][item] - averages[user2]) for user2 in K_closest_users)\n",
    "    bot = sum(abs(pearson_matrix[user][user2]) for user2 in K_closest_users)\n",
    "\n",
    "    r = averages[user] + top/bot\n",
    "    if r < 0:\n",
    "        return 0\n",
    "    elif r > 5:\n",
    "        return 5\n",
    "    else:\n",
    "        return r"
   ]
  },
  {
   "cell_type": "code",
   "execution_count": 10,
   "metadata": {},
   "outputs": [],
   "source": [
    "# Here we read in the ratings in u1.test\n",
    "u1_test_data = np.zeros((USERS,ITEMS))\n",
    "read_data(\".\\\\ml-100k\\\\u1.test\", u1_test_data)"
   ]
  },
  {
   "cell_type": "code",
   "execution_count": 11,
   "metadata": {},
   "outputs": [
    {
     "name": "stdout",
     "output_type": "stream",
     "text": [
      "3.5566819767721967\n"
     ]
    }
   ],
   "source": [
    "# RMSE as found in equation 7.5\n",
    "# Calculated using the average ratings of each user as a baseline\n",
    "\n",
    "squared_error_avg = 0\n",
    "count = 0\n",
    "\n",
    "for user in range(USERS):\n",
    "    for item in range(ITEMS):\n",
    "        if u1_train_data[user][item] == 0:\n",
    "            continue\n",
    "        squared_error_avg += (averages[user] - u1_test_data[user][item]) ** 2\n",
    "        count += 1\n",
    "\n",
    "RMSE_avg = math.sqrt(squared_error_avg / count)\n",
    "print(RMSE_avg)"
   ]
  },
  {
   "cell_type": "code",
   "execution_count": 12,
   "metadata": {},
   "outputs": [],
   "source": [
    "from itertools import combinations\n",
    "\n",
    "def user_kendall_coef(user):\n",
    "    credit = 0\n",
    "    test_items = {k for k in range(ITEMS) if u1_test_data[user][k] > 0}\n",
    "\n",
    "    if len(test_items) <= 1:\n",
    "        raise ZeroDivisionError\n",
    "\n",
    "    for item1, item2 in combinations(test_items, 2):\n",
    "        val = (u1_test_data[user][item1] - u1_test_data[user][item2]) * (u1_pred[user][item1] - u1_pred[user][item2])\n",
    "        if val > 0:\n",
    "            credit += 1\n",
    "        elif val < 0:\n",
    "            credit -= 1\n",
    "    \n",
    "    return credit / (len(test_items) * (len(test_items) - 1) / 2)"
   ]
  },
  {
   "cell_type": "code",
   "execution_count": 13,
   "metadata": {},
   "outputs": [
    {
     "name": "stdout",
     "output_type": "stream",
     "text": [
      "2 1.135317748187173 0.14915125223746123\n",
      "3 1.0774527032409333 0.1722115588470126\n",
      "4 1.0415041854560423 0.19237317078129587\n",
      "5 1.0212206141077282 0.20129084569458713\n",
      "6 1.0066203436931822 0.21073500614459229\n",
      "7 0.9980322496770825 0.21890897376472332\n",
      "8 0.9911461830144686 0.21925571038164918\n",
      "9 0.9869460418144786 0.22635889273919402\n",
      "10 0.9827357832321977 0.2261315872402635\n",
      "11 0.9796143637402012 0.2272606610514393\n",
      "12 0.9768292341119547 0.22709403090628605\n",
      "13 0.9740905525995786 0.22933660745408352\n",
      "14 0.9724874663265057 0.2305910698876082\n",
      "15 0.970593944100322 0.2371814474145983\n",
      "16 0.9685490967601817 0.2384216194078346\n",
      "17 0.9676524465805032 0.24051305383545296\n",
      "18 0.9666947287195105 0.24279247944553908\n",
      "19 0.9656160746038881 0.2481937308628679\n",
      "20 0.9646901658999121 0.2506024992788578\n"
     ]
    }
   ],
   "source": [
    "# Iterate through a range of neighborhood sizes\n",
    "for K in range(2,21):\n",
    "    # Predict ratings for each user-item pair in the test data.\n",
    "    testing_size = 0\n",
    "    error_count = 0\n",
    "    u1_pred = np.zeros((USERS,ITEMS))\n",
    "    for user in range(USERS):\n",
    "        for item in range(ITEMS):\n",
    "            if u1_test_data[user][item] == 0:\n",
    "                continue\n",
    "            try:\n",
    "                pred_val = r_hat(user, item, K)\n",
    "                u1_pred[user][item] = pred_val\n",
    "                testing_size += 1\n",
    "            except ZeroDivisionError:\n",
    "                continue\n",
    "            \n",
    "    count = 0\n",
    "    squared_error = 0\n",
    "\n",
    "    # calculate the RMSE for each neighborhood size\n",
    "    for user in range(USERS):\n",
    "        for item in range(ITEMS):\n",
    "            if u1_pred[user][item] == 0:\n",
    "                continue\n",
    "            squared_error += (u1_pred[user][item] - u1_test_data[user][item]) ** 2\n",
    "            count += 1\n",
    "    RMSE = math.sqrt(squared_error / count)\n",
    "\n",
    "    # calculate the average Kendall rank correlation coefficient for each neighborhood size\n",
    "    count = 0\n",
    "    total_ken = 0\n",
    "    for user in range(USERS):\n",
    "        try:\n",
    "            total_ken += user_kendall_coef(user)\n",
    "            count += 1\n",
    "        except ZeroDivisionError:\n",
    "            continue\n",
    "\n",
    "    print(K, RMSE, total_ken / count)"
   ]
  }
 ],
 "metadata": {
  "interpreter": {
   "hash": "1b1a5b2f53fe8d0bcd4ac39533e586bc42b57972f340950c5b9dd959554a56a5"
  },
  "kernelspec": {
   "display_name": "Python 3.9.7 64-bit ('MLLA': conda)",
   "language": "python",
   "name": "python3"
  },
  "language_info": {
   "codemirror_mode": {
    "name": "ipython",
    "version": 3
   },
   "file_extension": ".py",
   "mimetype": "text/x-python",
   "name": "python",
   "nbconvert_exporter": "python",
   "pygments_lexer": "ipython3",
   "version": "3.9.7"
  },
  "orig_nbformat": 4
 },
 "nbformat": 4,
 "nbformat_minor": 2
}
