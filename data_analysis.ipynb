{
 "cells": [
  {
   "cell_type": "code",
   "execution_count": 1,
   "metadata": {},
   "outputs": [],
   "source": [
    "# Importing packages\n",
    "import numpy as np"
   ]
  },
  {
   "cell_type": "code",
   "execution_count": 2,
   "metadata": {},
   "outputs": [],
   "source": [
    "ITEMS = 1682\n",
    "USERS = 943"
   ]
  },
  {
   "cell_type": "code",
   "execution_count": 3,
   "metadata": {},
   "outputs": [],
   "source": [
    "# This function reads data from file and writes it to target, a numpy array\n",
    "def read_data(file, target):\n",
    "    with open(file) as f:\n",
    "        line = f.readline()\n",
    "        while line:\n",
    "            user, item, rating, _ = line.split()\n",
    "            target[int(user)-1][int(item)-1] = int(rating)\n",
    "            line = f.readline()"
   ]
  },
  {
   "cell_type": "code",
   "execution_count": 4,
   "metadata": {},
   "outputs": [],
   "source": [
    "# Here we read in the ratings in u1.base\n",
    "\n",
    "u1_train_data = np.zeros((USERS, ITEMS))\n",
    "\n",
    "read_data(\".\\\\ml-100k\\\\u1.base\", u1_train_data)"
   ]
  },
  {
   "cell_type": "code",
   "execution_count": 5,
   "metadata": {},
   "outputs": [],
   "source": [
    "# Generate the average rating for each user\n",
    "\n",
    "averages = [np.average(user, weights=user.astype(bool)) for user in u1_train_data]\n",
    "\n",
    "# Find which items are rated by each user and which users rated each item\n",
    "rated_items = [{k for k in range(ITEMS) if u1_train_data[i][k] > 0} for i in range(USERS)]\n",
    "rated_users = [{k for k in range(USERS) if u1_train_data[k][i] > 0} for i in range(ITEMS)]"
   ]
  },
  {
   "cell_type": "code",
   "execution_count": 6,
   "metadata": {},
   "outputs": [],
   "source": [
    "import matplotlib as mpl\n",
    "import matplotlib.pyplot as plt"
   ]
  },
  {
   "cell_type": "code",
   "execution_count": 12,
   "metadata": {},
   "outputs": [
    {
     "data": {
      "text/plain": [
       "(array([  2.,   5.,   8.,  36., 118., 232., 299., 170.,  59.,  14.]),\n",
       " array([1.51834862, 1.85347028, 2.18859194, 2.5237136 , 2.85883526,\n",
       "        3.19395692, 3.52907858, 3.86420024, 4.1993219 , 4.53444356,\n",
       "        4.86956522]),\n",
       " <BarContainer object of 10 artists>)"
      ]
     },
     "execution_count": 12,
     "metadata": {},
     "output_type": "execute_result"
    },
    {
     "data": {
      "image/png": "[encoded data removed]",
      "text/plain": [
       "<Figure size 432x288 with 1 Axes>"
      ]
     },
     "metadata": {
      "needs_background": "light"
     },
     "output_type": "display_data"
    }
   ],
   "source": [
    "# histogram of average ratings by each user\n",
    "\n",
    "fig1, ax1 = plt.subplots()\n",
    "ax1.hist(averages, 10)"
   ]
  },
  {
   "cell_type": "code",
   "execution_count": 16,
   "metadata": {},
   "outputs": [
    {
     "data": {
      "text/plain": [
       "(array([893., 257., 161.,  96.,  71.,  64.,  34.,  29.,  24.,  20.,   9.,\n",
       "          5.,   7.,   0.,   4.,   1.,   5.,   1.,   0.,   1.]),\n",
       " array([  0. ,  24.2,  48.4,  72.6,  96.8, 121. , 145.2, 169.4, 193.6,\n",
       "        217.8, 242. , 266.2, 290.4, 314.6, 338.8, 363. , 387.2, 411.4,\n",
       "        435.6, 459.8, 484. ]),\n",
       " <BarContainer object of 20 artists>)"
      ]
     },
     "execution_count": 16,
     "metadata": {},
     "output_type": "execute_result"
    },
    {
     "data": {
      "image/png": "[encoded data removed]",
      "text/plain": [
       "<Figure size 432x288 with 2 Axes>"
      ]
     },
     "metadata": {
      "needs_background": "light"
     },
     "output_type": "display_data"
    }
   ],
   "source": [
    "# histogram of # of items each user rated and\n",
    "# histogram of # of user that rated each item \n",
    "\n",
    "fig2, ax2 = plt.subplots(1, 2)\n",
    "ax2[0].hist([len(rated_items[user]) for user in range(USERS)], 20)\n",
    "ax2[1].hist([len(rated_users[item]) for item in range(ITEMS)], 20)"
   ]
  }
 ],
 "metadata": {
  "interpreter": {
   "hash": "1b1a5b2f53fe8d0bcd4ac39533e586bc42b57972f340950c5b9dd959554a56a5"
  },
  "kernelspec": {
   "display_name": "Python 3.9.7 64-bit ('MLLA': conda)",
   "language": "python",
   "name": "python3"
  },
  "language_info": {
   "codemirror_mode": {
    "name": "ipython",
    "version": 3
   },
   "file_extension": ".py",
   "mimetype": "text/x-python",
   "name": "python",
   "nbconvert_exporter": "python",
   "pygments_lexer": "ipython3",
   "version": "3.9.7"
  },
  "orig_nbformat": 4
 },
 "nbformat": 4,
 "nbformat_minor": 2
}
